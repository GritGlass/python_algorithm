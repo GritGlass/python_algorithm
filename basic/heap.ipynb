{
 "cells": [
  {
   "cell_type": "code",
   "execution_count": 2,
   "id": "404af59f",
   "metadata": {},
   "outputs": [],
   "source": [
    "# heap 데이터 삽입\n",
    "\n",
    "class Heap:\n",
    "    def __init__(self,data):\n",
    "        self.heap_array=list()\n",
    "        self.heap_array.append(None)\n",
    "        self.heap_array.append(data)"
   ]
  },
  {
   "cell_type": "code",
   "execution_count": 3,
   "id": "20f6d5f5",
   "metadata": {},
   "outputs": [
    {
     "data": {
      "text/plain": [
       "[None, 3]"
      ]
     },
     "execution_count": 3,
     "metadata": {},
     "output_type": "execute_result"
    }
   ],
   "source": [
    "heap=Heap(3)\n",
    "heap.heap_array"
   ]
  },
  {
   "cell_type": "code",
   "execution_count": 4,
   "id": "9158c43a",
   "metadata": {},
   "outputs": [],
   "source": [
    "# Insert new data in heap\n",
    "\n",
    "class Heap:\n",
    "    def __init__(self,data):\n",
    "        self.heap_array=list()\n",
    "        self.heap_array.append(None)\n",
    "        self.heap_array.append(data)\n",
    "\n",
    "    def insert(self,data):\n",
    "        if len(self.heap_array)<1:\n",
    "            self.heap_array.append(None)\n",
    "            self.heap_array.append(data)\n",
    "            return True\n",
    "        else:\n",
    "            self.heap_array.append(data)\n",
    "            return True\n"
   ]
  },
  {
   "cell_type": "code",
   "execution_count": 7,
   "id": "51005461",
   "metadata": {},
   "outputs": [
    {
     "data": {
      "text/plain": [
       "[None, 15, 10, 8, 5, 4, 20]"
      ]
     },
     "execution_count": 7,
     "metadata": {},
     "output_type": "execute_result"
    }
   ],
   "source": [
    "heap = Heap(15)\n",
    "heap.insert(10)\n",
    "heap.insert(8)\n",
    "heap.insert(5)\n",
    "heap.insert(4)\n",
    "heap.insert(20)\n",
    "heap.heap_array"
   ]
  },
  {
   "cell_type": "code",
   "execution_count": null,
   "id": "1e04a1ce",
   "metadata": {},
   "outputs": [],
   "source": [
    "# 가장 큰 value를 head로 변경\n",
    "class Heap:\n",
    "    def __init__(self,data):\n",
    "        self.heap_array=list()\n",
    "        self.heap_array.append(None)\n",
    "        self.heap_array.append(data)\n",
    "\n",
    "    def move_up(self,inserted_idx):\n",
    "        if inserted_idx<=1:\n",
    "            return False\n",
    "        \n",
    "        parent_idx=inserted_idx//2\n",
    "        if self.heap_array[parent_idx]<self.heap_array[inserted_idx]:\n",
    "            return True\n",
    "        else:\n",
    "            return False\n",
    "\n",
    "    def insert(self,data):\n",
    "        if len(self.heap_array)<1:\n",
    "            self.heap_array.append(None)\n",
    "            self.heap_array.append(data)\n",
    "            return True\n",
    "        \n",
    "        self.heap_array.append(data)\n",
    "    \n",
    "        inserted_idx=len(self.heap_array)-1\n",
    "\n",
    "        while self.move_up(inserted_idx):\n",
    "            parent_idx=inserted_idx//2\n",
    "            self.heap_array[inserted_idx], self.heap_array[parent_idx]=self.heap_array[parent_idx],self.heap_array[inserted_idx]\n",
    "            inserted_idx=parent_idx\n",
    "        return True\n"
   ]
  },
  {
   "cell_type": "code",
   "execution_count": 10,
   "id": "8f2f710a",
   "metadata": {},
   "outputs": [
    {
     "data": {
      "text/plain": [
       "[None, 20, 10, 15, 5, 4, 8]"
      ]
     },
     "execution_count": 10,
     "metadata": {},
     "output_type": "execute_result"
    }
   ],
   "source": [
    "heap = Heap(15)\n",
    "heap.insert(10)\n",
    "heap.insert(8)\n",
    "heap.insert(5)\n",
    "heap.insert(4)\n",
    "heap.insert(20)\n",
    "heap.heap_array"
   ]
  },
  {
   "cell_type": "code",
   "execution_count": null,
   "id": "9bfade7a",
   "metadata": {},
   "outputs": [],
   "source": [
    "'''\n",
    "heap에 delete 기능 추가\n",
    "1. 보통 head data를 pop\n",
    "'''\n",
    "class Heap:\n",
    "    def __init__(self,data):\n",
    "        self.heap_array=list()\n",
    "        self.heap_array.append(None)\n",
    "        self.heap_array.append(data)\n",
    "\n",
    "    def move_up(self,inserted_idx):\n",
    "        if inserted_idx<=1:\n",
    "            return False\n",
    "        \n",
    "        parent_idx=inserted_idx//2\n",
    "        if self.heap_array[parent_idx]<self.heap_array[inserted_idx]:\n",
    "            return True\n",
    "        else:\n",
    "            return False\n",
    "\n",
    "    def insert(self,data):\n",
    "        if len(self.heap_array)<1:\n",
    "            self.heap_array.append(None)\n",
    "            self.heap_array.append(data)\n",
    "            return True\n",
    "        \n",
    "        self.heap_array.append(data)\n",
    "    \n",
    "        inserted_idx=len(self.heap_array)-1\n",
    "\n",
    "        while self.move_up(inserted_idx):\n",
    "            parent_idx=inserted_idx//2\n",
    "            self.heap_array[inserted_idx], self.heap_array[parent_idx]=self.heap_array[parent_idx],self.heap_array[inserted_idx]\n",
    "            inserted_idx=parent_idx\n",
    "        return True\n",
    "    \n",
    "    def pop(self):\n",
    "        if len(self.heap_array)<=1:\n",
    "            return None\n",
    "        returned_data=self.heap_array[1]\n",
    "        del self.heap_array[1]\n",
    "        return returned_data"
   ]
  },
  {
   "cell_type": "code",
   "execution_count": 20,
   "id": "704729d7",
   "metadata": {},
   "outputs": [
    {
     "data": {
      "text/plain": [
       "[None, 20, 10, 15, 5, 4, 8]"
      ]
     },
     "metadata": {},
     "output_type": "display_data"
    },
    {
     "data": {
      "text/plain": [
       "20"
      ]
     },
     "metadata": {},
     "output_type": "display_data"
    },
    {
     "data": {
      "text/plain": [
       "[None, 10, 15, 5, 4, 8]"
      ]
     },
     "metadata": {},
     "output_type": "display_data"
    }
   ],
   "source": [
    "heap = Heap(15)\n",
    "heap.insert(10)\n",
    "heap.insert(8)\n",
    "heap.insert(5)\n",
    "heap.insert(4)\n",
    "heap.insert(20)\n",
    "display(heap.heap_array)\n",
    "display(heap.pop())\n",
    "display(heap.heap_array)"
   ]
  },
  {
   "cell_type": "code",
   "execution_count": 27,
   "id": "3272be69",
   "metadata": {},
   "outputs": [],
   "source": [
    "'''\n",
    "heap에 delete 기능 추가\n",
    "1. 보통 head data를 pop\n",
    "2. 마지막 data를 head로 위치변경\n",
    "3. 그 다음 정렬 수행 \n",
    "'''\n",
    "\n",
    "class Heap:\n",
    "    def __init__(self,data):\n",
    "        self.heap_array=list()\n",
    "        self.heap_array.append(None)\n",
    "        self.heap_array.append(data)\n",
    "\n",
    "    def move_up(self,inserted_idx):\n",
    "        if inserted_idx<=1:\n",
    "            return False\n",
    "        \n",
    "        parent_idx=inserted_idx//2\n",
    "        if self.heap_array[parent_idx]<self.heap_array[inserted_idx]:\n",
    "            return True\n",
    "        else:\n",
    "            return False\n",
    "\n",
    "    def insert(self,data):\n",
    "        if len(self.heap_array)<1:\n",
    "            self.heap_array.append(None)\n",
    "            self.heap_array.append(data)\n",
    "            return True\n",
    "        \n",
    "        self.heap_array.append(data)\n",
    "    \n",
    "        inserted_idx=len(self.heap_array)-1\n",
    "\n",
    "        while self.move_up(inserted_idx):\n",
    "            parent_idx=inserted_idx//2\n",
    "            self.heap_array[inserted_idx], self.heap_array[parent_idx]=self.heap_array[parent_idx],self.heap_array[inserted_idx]\n",
    "            inserted_idx=parent_idx\n",
    "        return True\n",
    "    \n",
    "    def move_down(self,popped_idx):\n",
    "        left_child_popped_idx=popped_idx*2\n",
    "        right_child_popped_idx=popped_idx*2+1\n",
    "\n",
    "        #case1 : 왼쪽 자식 노드가 없을 떄 \n",
    "        if left_child_popped_idx >= len(self.heap_array):\n",
    "            return False\n",
    "\n",
    "        #case2: 왼쪽 자식 노드가 있고, 오른쪽 자식 노드가 없을 때\n",
    "        elif right_child_popped_idx >= len(self.heap_array):\n",
    "            if self.heap_array[left_child_popped_idx]>self.heap_array[popped_idx]:\n",
    "                return True\n",
    "            else:\n",
    "                return False \n",
    "\n",
    "        #case3: 왼쪽, 오른쪽 자식 모두 있을때\n",
    "        else:\n",
    "            if self.heap_array[left_child_popped_idx]>self.heap_array[right_child_popped_idx]:\n",
    "                if self.heap_array[left_child_popped_idx]>self.heap_array[popped_idx]:\n",
    "                    return True\n",
    "                else:\n",
    "                    return False\n",
    "            else:\n",
    "                if self.heap_array[right_child_popped_idx]>self.heap_array[popped_idx]:\n",
    "                    return True\n",
    "                else:\n",
    "                    return False\n",
    "\n",
    "    def pop(self):\n",
    "        if len(self.heap_array)<=1:\n",
    "            return None\n",
    "        returned_data=self.heap_array[1]\n",
    "        self.heap_array[1]=self.heap_array[-1]\n",
    "        del self.heap_array[-1]\n",
    "        popped_idx=1\n",
    "\n",
    "        while self.move_down(popped_idx):\n",
    "            left_child_popped_idx=popped_idx*2\n",
    "            right_child_popped_idx=popped_idx*2+1\n",
    "\n",
    "            #case2: 왼쪽 자식 노드가 있고, 오른쪽 자식 노드가 없을 때\n",
    "            if right_child_popped_idx >= len(self.heap_array):\n",
    "                if self.heap_array[left_child_popped_idx]>self.heap_array[popped_idx]:\n",
    "                    self.heap_array[left_child_popped_idx],self.heap_array[popped_idx]=self.heap_array[popped_idx],self.heap_array[left_child_popped_idx]\n",
    "                    popped_idx=left_child_popped_idx\n",
    "            #case3: 왼쪽, 오른쪽 자식 모두 있을때\n",
    "            else:\n",
    "                if self.heap_array[left_child_popped_idx]>self.heap_array[right_child_popped_idx]:\n",
    "                    if self.heap_array[left_child_popped_idx]>self.heap_array[popped_idx]:\n",
    "                        self.heap_array[left_child_popped_idx],self.heap_array[popped_idx]=self.heap_array[popped_idx],self.heap_array[left_child_popped_idx]\n",
    "                        popped_idx=left_child_popped_idx\n",
    "\n",
    "                else:\n",
    "                    if self.heap_array[right_child_popped_idx]>self.heap_array[popped_idx]:\n",
    "                        self.heap_array[right_child_popped_idx],self.heap_array[popped_idx]=self.heap_array[popped_idx],self.heap_array[right_child_popped_idx]\n",
    "                        popped_idx=right_child_popped_idx\n",
    "\n",
    "        return returned_data\n"
   ]
  },
  {
   "cell_type": "code",
   "execution_count": 28,
   "id": "6c413d1f",
   "metadata": {},
   "outputs": [
    {
     "data": {
      "text/plain": [
       "[None, 20, 10, 15, 5, 4, 8]"
      ]
     },
     "metadata": {},
     "output_type": "display_data"
    },
    {
     "data": {
      "text/plain": [
       "20"
      ]
     },
     "metadata": {},
     "output_type": "display_data"
    },
    {
     "data": {
      "text/plain": [
       "[None, 15, 10, 8, 5, 4]"
      ]
     },
     "metadata": {},
     "output_type": "display_data"
    }
   ],
   "source": [
    "heap = Heap(15)\n",
    "heap.insert(10)\n",
    "heap.insert(8)\n",
    "heap.insert(5)\n",
    "heap.insert(4)\n",
    "heap.insert(20)\n",
    "display(heap.heap_array)\n",
    "display(heap.pop())\n",
    "display(heap.heap_array)"
   ]
  },
  {
   "cell_type": "code",
   "execution_count": null,
   "id": "9184fac2",
   "metadata": {},
   "outputs": [],
   "source": []
  }
 ],
 "metadata": {
  "kernelspec": {
   "display_name": "base",
   "language": "python",
   "name": "python3"
  },
  "language_info": {
   "codemirror_mode": {
    "name": "ipython",
    "version": 3
   },
   "file_extension": ".py",
   "mimetype": "text/x-python",
   "name": "python",
   "nbconvert_exporter": "python",
   "pygments_lexer": "ipython3",
   "version": "3.12.7"
  }
 },
 "nbformat": 4,
 "nbformat_minor": 5
}

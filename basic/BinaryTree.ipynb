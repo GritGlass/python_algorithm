{
 "cells": [
  {
   "cell_type": "markdown",
   "id": "5e39cd11",
   "metadata": {},
   "source": [
    "## Binary Search Tree(BST) : 이진 트리"
   ]
  },
  {
   "cell_type": "code",
   "execution_count": null,
   "id": "cc12383b",
   "metadata": {},
   "outputs": [],
   "source": [
    "class Node:\n",
    "    def __init__(self,value):\n",
    "        self.value=value\n",
    "        self.left=None\n",
    "        self.right=None\n"
   ]
  },
  {
   "cell_type": "code",
   "execution_count": 4,
   "id": "2d675ce1",
   "metadata": {},
   "outputs": [],
   "source": [
    "class NodeMgmt:\n",
    "    def __init__(self,head):\n",
    "        self.head=head\n",
    "    def insert(self,value):\n",
    "        self.current_node=self.head\n",
    "        while True:\n",
    "            if value <self.current_node.value:\n",
    "                if self.current_node.left!=None:\n",
    "                    self.current_node=self.current_node.left\n",
    "                else:\n",
    "                    self.current_node.left=Node(value)\n",
    "                    break\n",
    "            else:\n",
    "                if self.current_node.right!=None:\n",
    "                    self.current_node=self.current_node.right\n",
    "                else:\n",
    "                    self.current_node.right=Node(value)\n",
    "                    break\n",
    "\n",
    "    def search(self,value):\n",
    "        self.current_node=self.head\n",
    "        while self.current_node:\n",
    "            if self.current_node.value==value:\n",
    "                return True\n",
    "            elif value<self.current_node.value:\n",
    "                self.current_node=self.current_node.left\n",
    "            else:\n",
    "                self.current_node=self.current_node.right\n",
    "        return False"
   ]
  },
  {
   "cell_type": "code",
   "execution_count": 5,
   "id": "fd8e3b20",
   "metadata": {},
   "outputs": [],
   "source": [
    "head=Node(1)\n",
    "BST=NodeMgmt(head)\n",
    "BST.insert(2)\n",
    "BST.insert(3)\n",
    "BST.insert(0)\n",
    "BST.insert(4)\n",
    "BST.insert(8)\n"
   ]
  },
  {
   "cell_type": "code",
   "execution_count": 7,
   "id": "b07be3bb",
   "metadata": {},
   "outputs": [
    {
     "data": {
      "text/plain": [
       "False"
      ]
     },
     "execution_count": 7,
     "metadata": {},
     "output_type": "execute_result"
    }
   ],
   "source": [
    "BST.search(9) "
   ]
  },
  {
   "cell_type": "markdown",
   "id": "fad5f114",
   "metadata": {},
   "source": [
    "### Delete Binary Search Tree"
   ]
  },
  {
   "cell_type": "markdown",
   "id": "97c28afc",
   "metadata": {},
   "source": [
    "1. 삭제할 Node의 오른쪽 자식 선택\n",
    "2. 오른쪽 자식의 가장 왼쪽에 있는 Node 선택\n",
    "3. 해당 Node를 삭제할 Node의 Parent Node의 왼쪽 Branch가 가리키게함\n",
    "4. 해당 Node의 왼쪽 Branch가 삭제할 Node의 왼쪽 Child Node를 가리키게함\n",
    "5. 해당 Node의 오른쪽 Branch가 삭제할 Node의 오른쪽 Child Node를 가리키게 함\n",
    "6. 만약 해당 Node가 오른쪽 Child Node를 가지고 있었을 경우에는, 해당 Node의 본래 Parent Node의 왼쪽 Branch가 해당 오른쪽 Child Node를 가리키게 함"
   ]
  },
  {
   "cell_type": "markdown",
   "id": "4cbfafeb",
   "metadata": {},
   "source": []
  }
 ],
 "metadata": {
  "kernelspec": {
   "display_name": "Python 3",
   "language": "python",
   "name": "python3"
  },
  "language_info": {
   "codemirror_mode": {
    "name": "ipython",
    "version": 3
   },
   "file_extension": ".py",
   "mimetype": "text/x-python",
   "name": "python",
   "nbconvert_exporter": "python",
   "pygments_lexer": "ipython3",
   "version": "3.12.7"
  }
 },
 "nbformat": 4,
 "nbformat_minor": 5
}

{
 "cells": [
  {
   "cell_type": "code",
   "execution_count": 2,
   "id": "174ea64a",
   "metadata": {},
   "outputs": [],
   "source": [
    "coin_list=[1,50,100,500]\n",
    "\n",
    "def greedy_coin(coin_list,num):\n",
    "    coin_list.sort(reverse=True)\n",
    "    total_coin_cnt=0\n",
    "    hist={}\n",
    "    for coin in coin_list:\n",
    "        coin_cnt=num//coin\n",
    "        total_coin_cnt+=coin_cnt\n",
    "        num=num%coin\n",
    "        hist[coin]=coin_cnt\n",
    "\n",
    "    return total_coin_cnt, hist"
   ]
  },
  {
   "cell_type": "code",
   "execution_count": 4,
   "id": "1e5ae512",
   "metadata": {},
   "outputs": [
    {
     "data": {
      "text/plain": [
       "(31, {500: 9, 100: 2, 50: 0, 1: 20})"
      ]
     },
     "execution_count": 4,
     "metadata": {},
     "output_type": "execute_result"
    }
   ],
   "source": [
    "num=4720\n",
    "greedy_coin(coin_list,num)"
   ]
  },
  {
   "cell_type": "code",
   "execution_count": null,
   "id": "ef4b16c0",
   "metadata": {},
   "outputs": [],
   "source": []
  }
 ],
 "metadata": {
  "kernelspec": {
   "display_name": "base",
   "language": "python",
   "name": "python3"
  },
  "language_info": {
   "codemirror_mode": {
    "name": "ipython",
    "version": 3
   },
   "file_extension": ".py",
   "mimetype": "text/x-python",
   "name": "python",
   "nbconvert_exporter": "python",
   "pygments_lexer": "ipython3",
   "version": "3.12.7"
  }
 },
 "nbformat": 4,
 "nbformat_minor": 5
}

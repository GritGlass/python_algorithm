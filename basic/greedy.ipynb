{
 "cells": [
  {
   "cell_type": "code",
   "execution_count": 2,
   "id": "174ea64a",
   "metadata": {},
   "outputs": [],
   "source": [
    "coin_list=[1,50,100,500]\n",
    "\n",
    "def greedy_coin(coin_list,num):\n",
    "    coin_list.sort(reverse=True)\n",
    "    total_coin_cnt=0\n",
    "    hist={}\n",
    "    for coin in coin_list:\n",
    "        coin_cnt=num//coin\n",
    "        total_coin_cnt+=coin_cnt\n",
    "        num=num%coin\n",
    "        hist[coin]=coin_cnt\n",
    "\n",
    "    return total_coin_cnt, hist"
   ]
  },
  {
   "cell_type": "code",
   "execution_count": 4,
   "id": "1e5ae512",
   "metadata": {},
   "outputs": [
    {
     "data": {
      "text/plain": [
       "(31, {500: 9, 100: 2, 50: 0, 1: 20})"
      ]
     },
     "execution_count": 4,
     "metadata": {},
     "output_type": "execute_result"
    }
   ],
   "source": [
    "num=4720\n",
    "greedy_coin(coin_list,num)"
   ]
  },
  {
   "cell_type": "code",
   "execution_count": 10,
   "id": "ef4b16c0",
   "metadata": {},
   "outputs": [],
   "source": [
    "data_list=[(10,10),(15,12),(20,10),(25,8),(30,5)]\n",
    "\n",
    "def get_max_value(data_list,capacity):\n",
    "    data_list=sorted(data_list,key=lambda x: x[1]/x[0],reverse=True)\n",
    "    total_value=0\n",
    "    hist={}\n",
    "    \n",
    "    for data in data_list:\n",
    "        if capacity-data[1]>=0:\n",
    "            capacity-=data[0]\n",
    "            total_value+=data[1]\n",
    "            hist[data[0]]=[data[1],1]\n",
    "        else:\n",
    "            fraction=capacity/data[0]\n",
    "            total_value+=fraction*data[1]\n",
    "            hist[data[0]]=[data[1],fraction]\n",
    "            break\n",
    "\n",
    "    return total_value, hist"
   ]
  },
  {
   "cell_type": "code",
   "execution_count": 11,
   "id": "3945a016",
   "metadata": {},
   "outputs": [
    {
     "data": {
      "text/plain": [
       "(24.5, {10: [10, 1], 15: [12, 1], 20: [10, 0.25]})"
      ]
     },
     "execution_count": 11,
     "metadata": {},
     "output_type": "execute_result"
    }
   ],
   "source": [
    "get_max_value(data_list,30)"
   ]
  },
  {
   "cell_type": "code",
   "execution_count": null,
   "id": "c691b0b7",
   "metadata": {},
   "outputs": [],
   "source": []
  }
 ],
 "metadata": {
  "kernelspec": {
   "display_name": "base",
   "language": "python",
   "name": "python3"
  },
  "language_info": {
   "codemirror_mode": {
    "name": "ipython",
    "version": 3
   },
   "file_extension": ".py",
   "mimetype": "text/x-python",
   "name": "python",
   "nbconvert_exporter": "python",
   "pygments_lexer": "ipython3",
   "version": "3.12.7"
  }
 },
 "nbformat": 4,
 "nbformat_minor": 5
}

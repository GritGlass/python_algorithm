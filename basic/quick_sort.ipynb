{
 "cells": [
  {
   "cell_type": "code",
   "execution_count": 5,
   "id": "393b20d7",
   "metadata": {},
   "outputs": [],
   "source": [
    "def qsort(data):\n",
    "    if len(data) <=1:\n",
    "        return data\n",
    "    pivot=data[0]\n",
    "    left, right= [], []\n",
    "    for i in data[1:]:\n",
    "        if i<pivot:\n",
    "            left.append(i)\n",
    "        else:\n",
    "            right.append(i)\n",
    "    return qsort(left)+[pivot]+qsort(right)\n",
    "\n",
    "def qsort2(data):\n",
    "    if len(data)<=1:\n",
    "        return data\n",
    "    pivot=data[0]\n",
    "    left=[i for i in data[1:] if i<pivot]\n",
    "    right=[i for i in data[1:] if i>pivot]\n",
    "    return qsort2(left)+[pivot]+qsort2(right)"
   ]
  },
  {
   "cell_type": "code",
   "execution_count": 4,
   "id": "430a401b",
   "metadata": {},
   "outputs": [
    {
     "data": {
      "text/plain": [
       "[1, 4, 7, 13, 16, 24, 31, 33, 41, 45, 51, 63, 64, 66, 69, 73, 76, 84, 88, 91]"
      ]
     },
     "execution_count": 4,
     "metadata": {},
     "output_type": "execute_result"
    }
   ],
   "source": [
    "import random\n",
    "\n",
    "data=random.sample(range(100),20)\n",
    "qsort(data)"
   ]
  },
  {
   "cell_type": "code",
   "execution_count": 6,
   "id": "b8735c0a",
   "metadata": {},
   "outputs": [
    {
     "data": {
      "text/plain": [
       "[1, 4, 7, 13, 16, 24, 31, 33, 41, 45, 51, 63, 64, 66, 69, 73, 76, 84, 88, 91]"
      ]
     },
     "execution_count": 6,
     "metadata": {},
     "output_type": "execute_result"
    }
   ],
   "source": [
    "qsort2(data)"
   ]
  },
  {
   "cell_type": "code",
   "execution_count": null,
   "id": "b3e1a503",
   "metadata": {},
   "outputs": [],
   "source": []
  }
 ],
 "metadata": {
  "kernelspec": {
   "display_name": "base",
   "language": "python",
   "name": "python3"
  },
  "language_info": {
   "codemirror_mode": {
    "name": "ipython",
    "version": 3
   },
   "file_extension": ".py",
   "mimetype": "text/x-python",
   "name": "python",
   "nbconvert_exporter": "python",
   "pygments_lexer": "ipython3",
   "version": "3.12.7"
  }
 },
 "nbformat": 4,
 "nbformat_minor": 5
}

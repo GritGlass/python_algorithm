{
 "cells": [
  {
   "cell_type": "code",
   "execution_count": 20,
   "id": "acdee11f",
   "metadata": {},
   "outputs": [],
   "source": [
    "import random\n",
    "\n",
    "x=random.sample(range(100),50)"
   ]
  },
  {
   "cell_type": "code",
   "execution_count": 21,
   "id": "bef6f38d",
   "metadata": {},
   "outputs": [],
   "source": [
    "def bubblesort(x):\n",
    "    for i in range(len(x)-1):\n",
    "        swap=False\n",
    "        for j in range(len(x)-i-1):\n",
    "            if x[j]>x[j+1]:\n",
    "                x[j],x[j+1]=x[j+1],x[j]\n",
    "                swap=True\n",
    "        if swap==False:\n",
    "            break\n",
    "    return x"
   ]
  },
  {
   "cell_type": "code",
   "execution_count": 22,
   "id": "62297bc2",
   "metadata": {},
   "outputs": [
    {
     "data": {
      "text/plain": [
       "[0,\n",
       " 1,\n",
       " 2,\n",
       " 4,\n",
       " 8,\n",
       " 10,\n",
       " 12,\n",
       " 13,\n",
       " 14,\n",
       " 17,\n",
       " 18,\n",
       " 21,\n",
       " 24,\n",
       " 27,\n",
       " 29,\n",
       " 30,\n",
       " 31,\n",
       " 36,\n",
       " 38,\n",
       " 39,\n",
       " 42,\n",
       " 44,\n",
       " 45,\n",
       " 46,\n",
       " 51,\n",
       " 52,\n",
       " 54,\n",
       " 55,\n",
       " 57,\n",
       " 58,\n",
       " 59,\n",
       " 61,\n",
       " 62,\n",
       " 66,\n",
       " 67,\n",
       " 72,\n",
       " 77,\n",
       " 78,\n",
       " 79,\n",
       " 80,\n",
       " 82,\n",
       " 83,\n",
       " 84,\n",
       " 85,\n",
       " 86,\n",
       " 89,\n",
       " 90,\n",
       " 93,\n",
       " 95,\n",
       " 99]"
      ]
     },
     "execution_count": 22,
     "metadata": {},
     "output_type": "execute_result"
    }
   ],
   "source": [
    "bubblesort(x)"
   ]
  },
  {
   "cell_type": "code",
   "execution_count": 36,
   "id": "490264cb",
   "metadata": {},
   "outputs": [],
   "source": [
    "def insertsort(x):\n",
    "    for i in range(len(x)-1):\n",
    "        for j in range(i+1,0,-1):\n",
    "            if x[j]<x[j-1]:\n",
    "                x[j],x[j-1]=x[j-1],x[j]\n",
    "            else:\n",
    "                break\n",
    "    return x"
   ]
  },
  {
   "cell_type": "code",
   "execution_count": 37,
   "id": "d806312c",
   "metadata": {},
   "outputs": [
    {
     "data": {
      "text/plain": [
       "[2,\n",
       " 6,\n",
       " 7,\n",
       " 8,\n",
       " 9,\n",
       " 10,\n",
       " 11,\n",
       " 13,\n",
       " 14,\n",
       " 15,\n",
       " 16,\n",
       " 18,\n",
       " 19,\n",
       " 21,\n",
       " 22,\n",
       " 24,\n",
       " 29,\n",
       " 30,\n",
       " 31,\n",
       " 33,\n",
       " 35,\n",
       " 41,\n",
       " 43,\n",
       " 46,\n",
       " 47,\n",
       " 48,\n",
       " 50,\n",
       " 51,\n",
       " 52,\n",
       " 54,\n",
       " 56,\n",
       " 57,\n",
       " 58,\n",
       " 59,\n",
       " 60,\n",
       " 61,\n",
       " 64,\n",
       " 66,\n",
       " 69,\n",
       " 70,\n",
       " 71,\n",
       " 73,\n",
       " 84,\n",
       " 86,\n",
       " 89,\n",
       " 92,\n",
       " 94,\n",
       " 95,\n",
       " 98,\n",
       " 99]"
      ]
     },
     "execution_count": 37,
     "metadata": {},
     "output_type": "execute_result"
    }
   ],
   "source": [
    "x=random.sample(range(100),50)\n",
    "insertsort(x)"
   ]
  },
  {
   "cell_type": "code",
   "execution_count": null,
   "id": "bdd359a9",
   "metadata": {},
   "outputs": [],
   "source": []
  }
 ],
 "metadata": {
  "kernelspec": {
   "display_name": "base",
   "language": "python",
   "name": "python3"
  },
  "language_info": {
   "codemirror_mode": {
    "name": "ipython",
    "version": 3
   },
   "file_extension": ".py",
   "mimetype": "text/x-python",
   "name": "python",
   "nbconvert_exporter": "python",
   "pygments_lexer": "ipython3",
   "version": "3.12.7"
  }
 },
 "nbformat": 4,
 "nbformat_minor": 5
}

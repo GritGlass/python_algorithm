{
 "cells": [
  {
   "cell_type": "code",
   "execution_count": 1,
   "id": "bf645e44",
   "metadata": {},
   "outputs": [],
   "source": [
    "sample_graph={}\n",
    "sample_graph['A']=['B','C']\n",
    "sample_graph['B']=['A','C','D']\n",
    "sample_graph['C']=['A','D','A','G','H','I']\n",
    "sample_graph['D']=['A','G','H','I','B','E','F']\n",
    "sample_graph['E']=['H','I','B','E','F','C']\n",
    "sample_graph['F']=['I','B','E','F','C','C']\n",
    "sample_graph['G']=['B','E','F','C','C','C','J']\n",
    "sample_graph['H']=['F','C','C','C','C','J','D']\n",
    "sample_graph['I']=['C','C','C','J','D','D']\n",
    "sample_graph['J']=['D','D','I']"
   ]
  },
  {
   "cell_type": "code",
   "execution_count": 5,
   "id": "e8b002b2",
   "metadata": {},
   "outputs": [],
   "source": [
    "def BFS(graph, start_node):\n",
    "    visited=list()\n",
    "    not_visited=list()\n",
    "\n",
    "    not_visited.append(start_node)\n",
    "\n",
    "    while not_visited:\n",
    "        node=not_visited.pop(0)\n",
    "        if node not in visited:\n",
    "            visited.append(node)\n",
    "            not_visited.extend(graph[node])\n",
    "\n",
    "    return visited"
   ]
  },
  {
   "cell_type": "code",
   "execution_count": 6,
   "id": "988507b6",
   "metadata": {},
   "outputs": [
    {
     "data": {
      "text/plain": [
       "['A', 'B', 'C', 'D', 'G', 'H', 'I', 'E', 'F', 'J']"
      ]
     },
     "execution_count": 6,
     "metadata": {},
     "output_type": "execute_result"
    }
   ],
   "source": [
    "BFS(sample_graph,'A')"
   ]
  },
  {
   "cell_type": "code",
   "execution_count": 7,
   "id": "6663ec78",
   "metadata": {},
   "outputs": [],
   "source": [
    "def DFS(graph,start_node):\n",
    "    visited,not_visited=list(),list()\n",
    "\n",
    "    not_visited.append(start_node)\n",
    "    while not_visited:\n",
    "        node=not_visited.pop()\n",
    "        if node not in visited:\n",
    "            visited.append(node)\n",
    "            not_visited.extend(graph[node])\n",
    "\n",
    "    return visited"
   ]
  },
  {
   "cell_type": "code",
   "execution_count": 8,
   "id": "04c636e0",
   "metadata": {},
   "outputs": [
    {
     "data": {
      "text/plain": [
       "['A', 'C', 'I', 'D', 'F', 'E', 'B', 'H', 'J', 'G']"
      ]
     },
     "execution_count": 8,
     "metadata": {},
     "output_type": "execute_result"
    }
   ],
   "source": [
    "DFS(sample_graph,'A')"
   ]
  },
  {
   "cell_type": "code",
   "execution_count": null,
   "id": "95dddd20",
   "metadata": {},
   "outputs": [],
   "source": []
  }
 ],
 "metadata": {
  "kernelspec": {
   "display_name": "base",
   "language": "python",
   "name": "python3"
  },
  "language_info": {
   "codemirror_mode": {
    "name": "ipython",
    "version": 3
   },
   "file_extension": ".py",
   "mimetype": "text/x-python",
   "name": "python",
   "nbconvert_exporter": "python",
   "pygments_lexer": "ipython3",
   "version": "3.12.7"
  }
 },
 "nbformat": 4,
 "nbformat_minor": 5
}

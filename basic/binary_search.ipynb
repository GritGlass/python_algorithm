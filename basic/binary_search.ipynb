{
 "cells": [
  {
   "cell_type": "code",
   "execution_count": 25,
   "id": "e7365a32",
   "metadata": {},
   "outputs": [],
   "source": [
    "def binary_search(arr, target):\n",
    "    if (len(arr)==0):\n",
    "        return False\n",
    "    elif (len(arr)==1)&(arr[0]!=target):\n",
    "        return False\n",
    "    elif (len(arr)==1)&(arr[0]==target):\n",
    "        return True\n",
    "    mid=len(arr)//2\n",
    "    if arr[mid]==target:\n",
    "        return True\n",
    "    else:\n",
    "        if arr[mid]<target:\n",
    "            return binary_search(arr[mid:], target)\n",
    "        else:\n",
    "            return binary_search(arr[:mid], target)\n"
   ]
  },
  {
   "cell_type": "code",
   "execution_count": 26,
   "id": "4ff157bf",
   "metadata": {},
   "outputs": [
    {
     "data": {
      "text/plain": [
       "[88, 60, 93, 3, 96, 72, 83, 27, 33, 31]"
      ]
     },
     "execution_count": 26,
     "metadata": {},
     "output_type": "execute_result"
    }
   ],
   "source": [
    "import random\n",
    "arr=random.sample(range(100), 10)\n",
    "arr"
   ]
  },
  {
   "cell_type": "code",
   "execution_count": 27,
   "id": "e2c08fac",
   "metadata": {},
   "outputs": [
    {
     "data": {
      "text/plain": [
       "[3, 27, 31, 33, 60, 72, 83, 88, 93, 96]"
      ]
     },
     "execution_count": 27,
     "metadata": {},
     "output_type": "execute_result"
    }
   ],
   "source": [
    "arr.sort()\n",
    "arr"
   ]
  },
  {
   "cell_type": "code",
   "execution_count": 31,
   "id": "6d0e1129",
   "metadata": {},
   "outputs": [
    {
     "name": "stdout",
     "output_type": "stream",
     "text": [
      "True\n",
      "True\n",
      "True\n",
      "True\n",
      "True\n",
      "True\n",
      "True\n",
      "True\n",
      "True\n",
      "True\n"
     ]
    }
   ],
   "source": [
    "for i in arr:\n",
    "    print(binary_search(arr, i))  "
   ]
  },
  {
   "cell_type": "code",
   "execution_count": null,
   "id": "abeabf12",
   "metadata": {},
   "outputs": [],
   "source": [
    "def sequential_search(arr, target):\n",
    "    for i in arr:\n",
    "        if i==target:\n",
    "            return True\n",
    "    return False\n"
   ]
  },
  {
   "cell_type": "code",
   "execution_count": 34,
   "id": "181fbf8a",
   "metadata": {},
   "outputs": [
    {
     "data": {
      "text/plain": [
       "True"
      ]
     },
     "execution_count": 34,
     "metadata": {},
     "output_type": "execute_result"
    }
   ],
   "source": [
    "sequential_search(arr, 3)"
   ]
  },
  {
   "cell_type": "code",
   "execution_count": 35,
   "id": "d04e1fb3",
   "metadata": {},
   "outputs": [],
   "source": [
    "N=5\n",
    "N_list=[4,1,5,2,3]\n",
    "M=5\n",
    "M_list=[1,7,5,3,8]"
   ]
  },
  {
   "cell_type": "code",
   "execution_count": 36,
   "id": "9eb9ce88",
   "metadata": {},
   "outputs": [
    {
     "name": "stdout",
     "output_type": "stream",
     "text": [
      "1\n",
      "0\n",
      "1\n",
      "1\n",
      "0\n"
     ]
    }
   ],
   "source": [
    "N_list.sort()\n",
    "\n",
    "def binary_search(value, start,end):\n",
    "    if start > end:\n",
    "        return False\n",
    "    \n",
    "    mid = (start + end) // 2\n",
    "    if value==N_list[mid]:\n",
    "        return True\n",
    "    elif value<N_list[mid]:\n",
    "        return binary_search(value, start, mid-1)\n",
    "    else:\n",
    "        return binary_search(value, mid+1, end)\n",
    "    \n",
    "\n",
    "for i in M_list:\n",
    "    if binary_search(i,0,len(N_list)-1):\n",
    "        print(1)\n",
    "    else:\n",
    "        print(0)"
   ]
  },
  {
   "cell_type": "code",
   "execution_count": null,
   "id": "67e29d53",
   "metadata": {},
   "outputs": [],
   "source": []
  }
 ],
 "metadata": {
  "kernelspec": {
   "display_name": "glass_env",
   "language": "python",
   "name": "python3"
  },
  "language_info": {
   "codemirror_mode": {
    "name": "ipython",
    "version": 3
   },
   "file_extension": ".py",
   "mimetype": "text/x-python",
   "name": "python",
   "nbconvert_exporter": "python",
   "pygments_lexer": "ipython3",
   "version": "3.9.23"
  }
 },
 "nbformat": 4,
 "nbformat_minor": 5
}

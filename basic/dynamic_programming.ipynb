{
 "cells": [
  {
   "cell_type": "code",
   "execution_count": 1,
   "id": "210dc5f0",
   "metadata": {},
   "outputs": [],
   "source": [
    "def fibo(num):\n",
    "    if num <=1:\n",
    "        return num\n",
    "    else:\n",
    "        return fibo(num-1)+fibo(num-2)"
   ]
  },
  {
   "cell_type": "code",
   "execution_count": 2,
   "id": "dc87ccae",
   "metadata": {},
   "outputs": [
    {
     "data": {
      "text/plain": [
       "55"
      ]
     },
     "execution_count": 2,
     "metadata": {},
     "output_type": "execute_result"
    }
   ],
   "source": [
    "fibo(10)"
   ]
  },
  {
   "cell_type": "code",
   "execution_count": 3,
   "id": "49fc98a7",
   "metadata": {},
   "outputs": [],
   "source": [
    "def fibo_memo(num):\n",
    "    memo=[0 for _ in range(num+1)]\n",
    "    memo[1]=1\n",
    "\n",
    "    for i in range(2,num+1):\n",
    "        memo[i]=memo[i-1]+memo[i-2]\n",
    "    return memo[num]"
   ]
  },
  {
   "cell_type": "code",
   "execution_count": 4,
   "id": "ba53c8fb",
   "metadata": {},
   "outputs": [
    {
     "data": {
      "text/plain": [
       "55"
      ]
     },
     "execution_count": 4,
     "metadata": {},
     "output_type": "execute_result"
    }
   ],
   "source": [
    "fibo_memo(10)"
   ]
  },
  {
   "cell_type": "markdown",
   "id": "0bac2b16",
   "metadata": {},
   "source": [
    "### 2xn 형태의 직사각형이 있을 때, 1x2와 2x1로 조립가능한 모든 조합 찾기"
   ]
  },
  {
   "cell_type": "code",
   "execution_count": null,
   "id": "c762e2cf",
   "metadata": {},
   "outputs": [],
   "source": [
    "dp=[0]*1001\n",
    "dp[1]=1\n",
    "dp[2]=2\n",
    "\n",
    "for i in range(3,1001):\n",
    "    dp[i]=dp[i-1]+dp[i-2]"
   ]
  },
  {
   "cell_type": "code",
   "execution_count": 8,
   "id": "1c06454f",
   "metadata": {},
   "outputs": [
    {
     "data": {
      "text/plain": [
       "89"
      ]
     },
     "execution_count": 8,
     "metadata": {},
     "output_type": "execute_result"
    }
   ],
   "source": [
    "dp[10]"
   ]
  },
  {
   "cell_type": "markdown",
   "id": "51ee51c0",
   "metadata": {},
   "source": [
    "#### 1,1,1,2,2,3,4,5,7,9,12 패턴을 가짐\n",
    "- 점화식 : f(n)=f(n-2)+f(n-3)"
   ]
  },
  {
   "cell_type": "code",
   "execution_count": 14,
   "id": "9f5692d9",
   "metadata": {},
   "outputs": [],
   "source": [
    "p=[0]*101\n",
    "p[1], p[2], p[3] = 1, 1, 1\n",
    "for i in range(4,101):\n",
    "    p[i]=p[i-2]+p[i-3]"
   ]
  },
  {
   "cell_type": "code",
   "execution_count": 17,
   "id": "dda102b0",
   "metadata": {},
   "outputs": [
    {
     "data": {
      "text/plain": [
       "2"
      ]
     },
     "execution_count": 17,
     "metadata": {},
     "output_type": "execute_result"
    }
   ],
   "source": [
    "p[5]"
   ]
  },
  {
   "cell_type": "code",
   "execution_count": null,
   "id": "d7d625d0",
   "metadata": {},
   "outputs": [],
   "source": []
  }
 ],
 "metadata": {
  "kernelspec": {
   "display_name": "base",
   "language": "python",
   "name": "python3"
  },
  "language_info": {
   "codemirror_mode": {
    "name": "ipython",
    "version": 3
   },
   "file_extension": ".py",
   "mimetype": "text/x-python",
   "name": "python",
   "nbconvert_exporter": "python",
   "pygments_lexer": "ipython3",
   "version": "3.12.7"
  }
 },
 "nbformat": 4,
 "nbformat_minor": 5
}

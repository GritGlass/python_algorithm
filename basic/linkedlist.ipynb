{
 "cells": [
  {
   "cell_type": "markdown",
   "id": "fbdb77ee",
   "metadata": {},
   "source": [
    "## linked list"
   ]
  },
  {
   "cell_type": "code",
   "execution_count": null,
   "id": "b8229b33",
   "metadata": {},
   "outputs": [],
   "source": [
    "class Node:\n",
    "    def __init__(self,data,next=None):\n",
    "        self.data=data\n",
    "        self.next=next"
   ]
  },
  {
   "cell_type": "code",
   "execution_count": 2,
   "id": "dbc28294",
   "metadata": {},
   "outputs": [],
   "source": [
    "node1=Node(1)\n",
    "node2=Node(2)\n",
    "head=node1\n",
    "node1.next=node2\n"
   ]
  },
  {
   "cell_type": "code",
   "execution_count": 7,
   "id": "fcded9ee",
   "metadata": {},
   "outputs": [
    {
     "name": "stdout",
     "output_type": "stream",
     "text": [
      "2\n"
     ]
    }
   ],
   "source": [
    "node=head\n",
    "while node.next:\n",
    "    print(node.data)\n",
    "    node=node.next\n",
    "print(node.data)"
   ]
  },
  {
   "cell_type": "code",
   "execution_count": null,
   "id": "119418cf",
   "metadata": {},
   "outputs": [],
   "source": [
    "class Node:\n",
    "    def __init__(self,data,next=None):\n",
    "        self.data=data\n",
    "        self.next=next\n",
    "\n",
    "def add(data):\n",
    "    node=head\n",
    "    while node.next:\n",
    "        node=node.next\n",
    "    node.next=Node(data) #node.next는 객체 node.data,node.next"
   ]
  },
  {
   "cell_type": "code",
   "execution_count": 23,
   "id": "55b6d355",
   "metadata": {},
   "outputs": [
    {
     "name": "stdout",
     "output_type": "stream",
     "text": [
      "1\n",
      "2\n",
      "3\n",
      "4\n",
      "5\n",
      "6\n",
      "7\n",
      "8\n",
      "9\n"
     ]
    }
   ],
   "source": [
    "node1=Node(1)\n",
    "head=node1\n",
    "\n",
    "for i in range(2,10):\n",
    "    add(i)\n",
    "\n",
    "node=head\n",
    "while node.next:\n",
    "    print(node.data)\n",
    "    node=node.next\n",
    "print(node.data)"
   ]
  },
  {
   "cell_type": "markdown",
   "id": "ff335d24",
   "metadata": {},
   "source": [
    "### linked list 사이에 중간 값 끼워넣기"
   ]
  },
  {
   "cell_type": "code",
   "execution_count": 26,
   "id": "36831d8b",
   "metadata": {},
   "outputs": [
    {
     "name": "stdout",
     "output_type": "stream",
     "text": [
      "1\n",
      "1.5\n",
      "2\n",
      "3\n",
      "4\n",
      "5\n",
      "6\n",
      "7\n",
      "8\n"
     ]
    }
   ],
   "source": [
    "#1과 2 숫자 사이에 1.5 node 추가하기\n",
    "node3=Node(1.5)\n",
    "search=True\n",
    "node=head\n",
    "while search:\n",
    "    if node.data==1:\n",
    "        search=False\n",
    "    else:\n",
    "        node=node.next\n",
    "\n",
    "node_next=node.next\n",
    "node.next=node3\n",
    "node3.next=node_next\n",
    "\n",
    "node=head\n",
    "while node.next:\n",
    "    print(node.data)\n",
    "    node=node.next\n"
   ]
  },
  {
   "cell_type": "markdown",
   "id": "a9776e19",
   "metadata": {},
   "source": [
    "### Node 객체와 NodeMgmt 객체 생성"
   ]
  },
  {
   "cell_type": "code",
   "execution_count": null,
   "id": "2d394161",
   "metadata": {},
   "outputs": [],
   "source": [
    "class Node:\n",
    "    def __init__(self, data,next=None):\n",
    "        self.data=data\n",
    "        self.next=next\n",
    "\n",
    "#Liked list에 data 추가하는 add 메서드, list를 보여주는 desc 메서드\n",
    "class NodeMgmt:\n",
    "    def __init__(self, data):\n",
    "        self.head=Node(data)\n",
    "    \n",
    "    def add(self,data):\n",
    "        if self.head=='':\n",
    "            self.head=Node(data)\n",
    "        else:\n",
    "            node=self.head\n",
    "            while node.next: \n",
    "                node=node.next\n",
    "            node.next=Node(data)\n",
    "\n",
    "    def desc(self):\n",
    "        node=self.head\n",
    "        while node:\n",
    "            print(node.data)\n",
    "            node=node.next\n",
    "\n",
    "    def delete(self,data):\n",
    "        if self.head=='':\n",
    "            print('노드가 없습니다.')\n",
    "            return \n",
    "        \n",
    "        if self.head.data==data:\n",
    "            temp=self.head\n",
    "            self.head=temp.next\n",
    "            del temp\n",
    "            return\n",
    "        \n",
    "        else:\n",
    "            node=self.head\n",
    "            while node.next:\n",
    "                if node.next.data==data:\n",
    "                    temp=node.next\n",
    "                    node.next=temp.next\n",
    "                    del temp\n",
    "                    return\n",
    "                else:\n",
    "                    node=node.next\n",
    "\n",
    "    def search_node(self,data):\n",
    "        node=self.head\n",
    "        while node.next:\n",
    "            if node.data==data:\n",
    "                return node\n",
    "            else:\n",
    "                node=node.next\n",
    "                    "
   ]
  },
  {
   "cell_type": "code",
   "execution_count": 91,
   "id": "ec6837f2",
   "metadata": {},
   "outputs": [
    {
     "name": "stdout",
     "output_type": "stream",
     "text": [
      "0\n"
     ]
    }
   ],
   "source": [
    "likedlist=NodeMgmt(0)\n",
    "likedlist.desc()"
   ]
  },
  {
   "cell_type": "code",
   "execution_count": 92,
   "id": "fbc0db7d",
   "metadata": {},
   "outputs": [],
   "source": [
    "likedlist.delete(0)"
   ]
  },
  {
   "cell_type": "code",
   "execution_count": 93,
   "id": "8bd3050b",
   "metadata": {},
   "outputs": [],
   "source": [
    "likedlist.desc()"
   ]
  },
  {
   "cell_type": "code",
   "execution_count": 94,
   "id": "a1b24cbb",
   "metadata": {},
   "outputs": [
    {
     "name": "stdout",
     "output_type": "stream",
     "text": [
      "0\n",
      "1\n",
      "2\n",
      "3\n",
      "4\n",
      "5\n",
      "6\n",
      "7\n",
      "8\n",
      "9\n"
     ]
    }
   ],
   "source": [
    "likedlist=NodeMgmt(0)\n",
    "for data in range(1,10):\n",
    "    likedlist.add(data)\n",
    "likedlist.desc()"
   ]
  },
  {
   "cell_type": "code",
   "execution_count": 95,
   "id": "a878b33c",
   "metadata": {},
   "outputs": [
    {
     "name": "stdout",
     "output_type": "stream",
     "text": [
      "0\n",
      "1\n",
      "2\n",
      "3\n",
      "4\n",
      "6\n",
      "7\n",
      "8\n",
      "9\n"
     ]
    }
   ],
   "source": [
    "likedlist.delete(5)\n",
    "likedlist.desc()"
   ]
  },
  {
   "cell_type": "code",
   "execution_count": 96,
   "id": "74445f49",
   "metadata": {},
   "outputs": [
    {
     "name": "stdout",
     "output_type": "stream",
     "text": [
      "0\n",
      "1\n",
      "2\n",
      "4\n",
      "6\n",
      "7\n",
      "8\n",
      "9\n"
     ]
    }
   ],
   "source": [
    "likedlist.delete(3)\n",
    "likedlist.desc()"
   ]
  },
  {
   "cell_type": "code",
   "execution_count": 98,
   "id": "94bb347a",
   "metadata": {},
   "outputs": [
    {
     "data": {
      "text/plain": [
       "4"
      ]
     },
     "execution_count": 98,
     "metadata": {},
     "output_type": "execute_result"
    }
   ],
   "source": [
    "find_node=likedlist.search_node(4)\n",
    "find_node.data"
   ]
  },
  {
   "cell_type": "markdown",
   "id": "25c8cb22",
   "metadata": {},
   "source": [
    "## Double linked list"
   ]
  },
  {
   "cell_type": "code",
   "execution_count": null,
   "id": "e994f6ad",
   "metadata": {},
   "outputs": [],
   "source": [
    "class Node:\n",
    "    def __init__(self, data,prev=None,next=None):\n",
    "        self.prev=prev\n",
    "        self.data=data\n",
    "        self.next=next\n",
    "\n",
    "#Liked list에 data 추가하는 add 메서드, list를 보여주는 desc 메서드\n",
    "class NodeMgmt:\n",
    "    def __init__(self, data):\n",
    "        self.head=Node(data)\n",
    "        self.tail=self.head\n",
    "    \n",
    "    def insert(self,data):\n",
    "        if self.head==None:\n",
    "            self.head=Node(data)\n",
    "            self.tail=self.head\n",
    "        else:\n",
    "            node=self.head\n",
    "            while node.next: \n",
    "                node=node.next\n",
    "            new_node=Node(data)\n",
    "            node.next=new_node\n",
    "            new_node.prev=node\n",
    "            self.tail=new_node\n",
    "\n",
    "    def desc(self):\n",
    "        node=self.head\n",
    "        while node:\n",
    "            print(node.data)\n",
    "            node=node.next\n",
    "\n",
    "    def search_from_head(self,data):\n",
    "        if self.head==None:\n",
    "            return print('노드가 없음')\n",
    "        \n",
    "        node=self.head\n",
    "        while node:\n",
    "            if node.data==data:\n",
    "                return node\n",
    "            else:\n",
    "                node=node.next\n",
    "        return print(f'{data}가 해당 리스트에 없음')\n",
    "\n",
    "    def search_from_tail(self,data):\n",
    "        if self.head==None:\n",
    "            return print('노드가 없음')\n",
    "        \n",
    "        node=self.tail\n",
    "        while node:\n",
    "            if node.data==data:\n",
    "                return node\n",
    "            else:\n",
    "                node=node.prev\n",
    "        return print(f'{data}가 해당 리스트에 없음')\n",
    "    \n",
    "    def insert_before(self, data, before_data):\n",
    "        if self.head==None:\n",
    "            self.head=Node(data)\n",
    "            self.tail=self.head\n",
    "            return print(f'node가 없음')\n",
    "        else:\n",
    "            node=self.tail\n",
    "            while node.data!=before_data:\n",
    "                node=node.prev\n",
    "                if node==None:\n",
    "                    return print(f'{before_data}가 없음')\n",
    "              \n",
    "            new_node=Node(data)\n",
    "            new_node.next=node\n",
    "            new_node.prev=node.prev\n",
    "            node.prev.next=new_node\n",
    "            node.prev=new_node\n",
    "            return\n",
    "                    "
   ]
  },
  {
   "cell_type": "code",
   "execution_count": 110,
   "id": "f5908257",
   "metadata": {},
   "outputs": [
    {
     "name": "stdout",
     "output_type": "stream",
     "text": [
      "0\n",
      "1\n",
      "2\n",
      "3\n",
      "4\n",
      "5\n",
      "6\n",
      "7\n",
      "8\n",
      "9\n"
     ]
    }
   ],
   "source": [
    "double_linked_list = NodeMgmt(0)\n",
    "for data in range(1, 10):\n",
    "    double_linked_list.insert(data)\n",
    "double_linked_list.desc()"
   ]
  },
  {
   "cell_type": "code",
   "execution_count": 111,
   "id": "41d65c06",
   "metadata": {},
   "outputs": [
    {
     "data": {
      "text/plain": [
       "3"
      ]
     },
     "execution_count": 111,
     "metadata": {},
     "output_type": "execute_result"
    }
   ],
   "source": [
    "node_3 = double_linked_list.search_from_tail(3)\n",
    "node_3.data"
   ]
  },
  {
   "cell_type": "code",
   "execution_count": 119,
   "id": "e5f16162",
   "metadata": {},
   "outputs": [
    {
     "name": "stdout",
     "output_type": "stream",
     "text": [
      "4가 없음\n",
      "0\n"
     ]
    }
   ],
   "source": [
    "double_linked_list = NodeMgmt(0)\n",
    "double_linked_list.insert_before(3.5, 4)\n",
    "double_linked_list.desc()"
   ]
  },
  {
   "cell_type": "markdown",
   "id": "cd3006e3",
   "metadata": {},
   "source": [
    "- 특정 숫자 뒤에 새로운 node 추가하는 메서드 \n",
    "- search는 head부터 tail로 이동"
   ]
  },
  {
   "cell_type": "code",
   "execution_count": 120,
   "id": "05e16877",
   "metadata": {},
   "outputs": [],
   "source": [
    "class Node:\n",
    "    def __init__(self, data,prev=None,next=None):\n",
    "        self.prev=prev\n",
    "        self.data=data\n",
    "        self.next=next\n",
    "\n",
    "#Liked list에 data 추가하는 add 메서드, list를 보여주는 desc 메서드\n",
    "class NodeMgmt:\n",
    "    def __init__(self, data):\n",
    "        self.head=Node(data)\n",
    "        self.tail=self.head\n",
    "    \n",
    "    def insert(self,data):\n",
    "        if self.head==None:\n",
    "            self.head=Node(data)\n",
    "            self.tail=self.head\n",
    "        else:\n",
    "            node=self.head\n",
    "            while node.next: \n",
    "                node=node.next\n",
    "            new_node=Node(data)\n",
    "            node.next=new_node\n",
    "            new_node.prev=node\n",
    "            self.tail=new_node\n",
    "\n",
    "    def desc(self):\n",
    "        node=self.head\n",
    "        while node:\n",
    "            print(node.data)\n",
    "            node=node.next\n",
    "\n",
    "    def search_from_head(self,data):\n",
    "        if self.head==None:\n",
    "            return print('노드가 없음')\n",
    "        \n",
    "        node=self.head\n",
    "        while node:\n",
    "            if node.data==data:\n",
    "                return node\n",
    "            else:\n",
    "                node=node.next\n",
    "        return print(f'{data}가 해당 리스트에 없음')\n",
    "\n",
    "    def search_from_tail(self,data):\n",
    "        if self.head==None:\n",
    "            return print('노드가 없음')\n",
    "        \n",
    "        node=self.tail\n",
    "        while node:\n",
    "            if node.data==data:\n",
    "                return node\n",
    "            else:\n",
    "                node=node.prev\n",
    "        return print(f'{data}가 해당 리스트에 없음')\n",
    "    \n",
    "    def insert_before(self, data, before_data):\n",
    "        if self.head==None:\n",
    "            self.head=Node(data)\n",
    "            self.tail=self.head\n",
    "            return print(f'node가 없음')\n",
    "        else:\n",
    "            node=self.tail\n",
    "            while node.data!=before_data:\n",
    "                node=node.prev\n",
    "                if node==None:\n",
    "                    return print(f'{before_data}가 없음')\n",
    "              \n",
    "            new_node=Node(data)\n",
    "            new_node.next=node\n",
    "            new_node.prev=node.prev\n",
    "            node.prev.next=new_node\n",
    "            node.prev=new_node\n",
    "            return\n",
    "                    \n",
    "    def insert_after(self, data, after_data):\n",
    "        if self.head==None:\n",
    "            self.head=Node(data)\n",
    "            self.tail=self.head\n",
    "            return print(f'node가 없음')\n",
    "        else:\n",
    "            node=self.head\n",
    "            while node.data!=after_data:\n",
    "                node=node.next\n",
    "                if node==None:\n",
    "                    return print(f'{after_data}가 없음')\n",
    "              \n",
    "            new_node=Node(data)\n",
    "            new_node.next=node.next\n",
    "            new_node.prev=node\n",
    "\n",
    "            new_after=node.next\n",
    "            new_after.prev=new_node\n",
    "            node.next=new_node\n",
    "            return"
   ]
  },
  {
   "cell_type": "code",
   "execution_count": 125,
   "id": "8d3ba909",
   "metadata": {},
   "outputs": [
    {
     "name": "stdout",
     "output_type": "stream",
     "text": [
      "0\n",
      "1\n",
      "2\n",
      "3\n",
      "4\n",
      "5\n",
      "6\n",
      "7\n",
      "8\n",
      "9\n"
     ]
    }
   ],
   "source": [
    "node_mgmt = NodeMgmt(0)\n",
    "for data in range(1, 10):\n",
    "    node_mgmt.insert(data)\n",
    "\n",
    "node_mgmt.desc()\n"
   ]
  },
  {
   "cell_type": "code",
   "execution_count": 126,
   "id": "37af7391",
   "metadata": {},
   "outputs": [
    {
     "name": "stdout",
     "output_type": "stream",
     "text": [
      "0\n",
      "1\n",
      "2\n",
      "1.5\n",
      "3\n",
      "4\n",
      "5\n",
      "6\n",
      "7\n",
      "8\n",
      "9\n"
     ]
    }
   ],
   "source": [
    "node_mgmt.insert_after(1.5, 2)\n",
    "node_mgmt.desc()"
   ]
  },
  {
   "cell_type": "code",
   "execution_count": null,
   "id": "d1972f94",
   "metadata": {},
   "outputs": [],
   "source": []
  }
 ],
 "metadata": {
  "kernelspec": {
   "display_name": "Python 3",
   "language": "python",
   "name": "python3"
  },
  "language_info": {
   "codemirror_mode": {
    "name": "ipython",
    "version": 3
   },
   "file_extension": ".py",
   "mimetype": "text/x-python",
   "name": "python",
   "nbconvert_exporter": "python",
   "pygments_lexer": "ipython3",
   "version": "3.12.7"
  }
 },
 "nbformat": 4,
 "nbformat_minor": 5
}

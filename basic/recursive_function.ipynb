{
 "cells": [
  {
   "cell_type": "code",
   "execution_count": 40,
   "id": "ebd83b8e",
   "metadata": {},
   "outputs": [],
   "source": [
    "def check_palindrome(word):\n",
    "    check=0\n",
    "    for i in range(len(word)):\n",
    "        forward=word[i]\n",
    "        backwrad=word[len(word)-(i+1)]\n",
    "        if forward==backwrad:\n",
    "            check+=1\n",
    "    if check==len(word):\n",
    "        return True\n",
    "    else:\n",
    "        return False"
   ]
  },
  {
   "cell_type": "code",
   "execution_count": 48,
   "id": "58edc3f0",
   "metadata": {},
   "outputs": [
    {
     "name": "stdout",
     "output_type": "stream",
     "text": [
      "\n",
      "  _     ._   __/__   _ _  _  _ _/_   Recorded: 15:48:44  Samples:  0\n",
      " /_//_/// /_\\ / //_// / //_'/ //     Duration: 0.000     CPU time: 0.000\n",
      "/   _/                      v5.0.1\n",
      "\n",
      "Profile at C:\\Users\\Public\\Documents\\ESTsoft\\CreatorTemp\\ipykernel_17856\\1229897467.py:3\n",
      "\n",
      "No samples were recorded.\n",
      "\n",
      "\n"
     ]
    }
   ],
   "source": [
    "from pyinstrument import Profiler\n",
    "profiler = Profiler()\n",
    "profiler.start()\n",
    "check_palindrome('level')\n",
    "profiler.stop()\n",
    "print(profiler.output_text(unicode=True, color=True))"
   ]
  },
  {
   "cell_type": "code",
   "execution_count": null,
   "id": "21e74430",
   "metadata": {},
   "outputs": [],
   "source": [
    "def palindrome(word):\n",
    "    if len(word)<=1:\n",
    "        return True\n",
    "    if word[0]==word[-1]:\n",
    "        return palindrome(word[1:-1])\n",
    "    else:\n",
    "        return False"
   ]
  },
  {
   "cell_type": "code",
   "execution_count": 49,
   "id": "ff4e1404",
   "metadata": {},
   "outputs": [
    {
     "name": "stdout",
     "output_type": "stream",
     "text": [
      "\n",
      "  _     ._   __/__   _ _  _  _ _/_   Recorded: 15:49:22  Samples:  0\n",
      " /_//_/// /_\\ / //_// / //_'/ //     Duration: 0.000     CPU time: 0.000\n",
      "/   _/                      v5.0.1\n",
      "\n",
      "Profile at C:\\Users\\Public\\Documents\\ESTsoft\\CreatorTemp\\ipykernel_17856\\3306066049.py:3\n",
      "\n",
      "No samples were recorded.\n",
      "\n",
      "\n"
     ]
    }
   ],
   "source": [
    "from pyinstrument import Profiler\n",
    "profiler = Profiler()\n",
    "profiler.start()\n",
    "palindrome('level')\n",
    "profiler.stop()\n",
    "print(profiler.output_text(unicode=True, color=True))"
   ]
  },
  {
   "cell_type": "code",
   "execution_count": 45,
   "id": "a31db90c",
   "metadata": {},
   "outputs": [
    {
     "data": {
      "text/plain": [
       "False"
      ]
     },
     "execution_count": 45,
     "metadata": {},
     "output_type": "execute_result"
    }
   ],
   "source": [
    "palindrome('book')"
   ]
  },
  {
   "cell_type": "code",
   "execution_count": 51,
   "id": "1de47690",
   "metadata": {},
   "outputs": [
    {
     "data": {
      "text/plain": [
       "10"
      ]
     },
     "execution_count": 51,
     "metadata": {},
     "output_type": "execute_result"
    }
   ],
   "source": [
    "def sum_nums(data):\n",
    "    if len(data)<=1:\n",
    "        return data[0]\n",
    "    num=data[0]\n",
    "    return num+sum_nums(data[1:])\n",
    "\n",
    "sum_nums([1,2,3,4])"
   ]
  },
  {
   "cell_type": "code",
   "execution_count": 56,
   "id": "7b6581ed",
   "metadata": {},
   "outputs": [
    {
     "name": "stdout",
     "output_type": "stream",
     "text": [
      "5\n",
      "16\n",
      "8\n",
      "4\n",
      "2\n",
      "1\n"
     ]
    },
    {
     "data": {
      "text/plain": [
       "1"
      ]
     },
     "execution_count": 56,
     "metadata": {},
     "output_type": "execute_result"
    }
   ],
   "source": [
    "'''\n",
    "정수 n에 대해서 n이 홀수면 3*n+1, 짝수면 2*n\n",
    "n=1이 될때 까지 반복 수행\n",
    "1이 되면 n을 반환하고 프로세스 종료\n",
    "\n",
    "'''\n",
    "def cal_fun(num):\n",
    "    print(num)\n",
    "    if num==1:\n",
    "        return num\n",
    "    if num==0:\n",
    "        return False\n",
    "    if num%2==1:\n",
    "        return cal_fun(int(num*3+1))\n",
    "    else:\n",
    "        return cal_fun(int(num//2))\n",
    "    \n",
    "cal_fun(5)"
   ]
  },
  {
   "cell_type": "code",
   "execution_count": 63,
   "id": "b4b0ac2c",
   "metadata": {},
   "outputs": [
    {
     "data": {
      "text/plain": [
       "13"
      ]
     },
     "execution_count": 63,
     "metadata": {},
     "output_type": "execute_result"
    }
   ],
   "source": [
    "def find_combi(data):\n",
    "    if data==1:\n",
    "        return 1\n",
    "    elif data==2:\n",
    "        return 2\n",
    "    elif data==3:\n",
    "        return 4\n",
    "    \n",
    "    return find_combi(data-1)+ find_combi(data-2)+find_combi(data-3)\n",
    "\n",
    "find_combi(5)"
   ]
  },
  {
   "cell_type": "code",
   "execution_count": null,
   "id": "5f78c830",
   "metadata": {},
   "outputs": [],
   "source": []
  }
 ],
 "metadata": {
  "kernelspec": {
   "display_name": "base",
   "language": "python",
   "name": "python3"
  },
  "language_info": {
   "codemirror_mode": {
    "name": "ipython",
    "version": 3
   },
   "file_extension": ".py",
   "mimetype": "text/x-python",
   "name": "python",
   "nbconvert_exporter": "python",
   "pygments_lexer": "ipython3",
   "version": "3.12.7"
  }
 },
 "nbformat": 4,
 "nbformat_minor": 5
}

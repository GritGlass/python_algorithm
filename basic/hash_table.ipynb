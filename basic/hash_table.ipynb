{
 "cells": [
  {
   "cell_type": "markdown",
   "id": "85ac6ac5",
   "metadata": {},
   "source": [
    "## HASH\n",
    "- hash : 임의 값을 특정 고정 값(숫자)로 변환하는 것\n",
    "- hash table : key로 특정 value에 대해서 접근이 가능한 데이터 구조\n",
    "- hashing function : key를 입력받아 수식을 통해서 데이터(value)의 위치를 찾을 수 있는 함수, funtion(key)-> hash address\n",
    "- slot : 한 개의 데이터(value)를 저장할 수 있는 공간\n",
    "- 데이터(value)의 key를 생성하는 함수도 존재할 수 있음 "
   ]
  },
  {
   "cell_type": "markdown",
   "id": "c5ff67e9",
   "metadata": {},
   "source": [
    "hash 함수 \n",
    "- 나누기 함수"
   ]
  },
  {
   "cell_type": "code",
   "execution_count": 1,
   "id": "9c142f3c",
   "metadata": {},
   "outputs": [],
   "source": [
    "def hash_func(key):\n",
    "    return key%5"
   ]
  },
  {
   "cell_type": "code",
   "execution_count": 2,
   "id": "29f4eadd",
   "metadata": {},
   "outputs": [
    {
     "data": {
      "text/plain": [
       "0"
      ]
     },
     "execution_count": 2,
     "metadata": {},
     "output_type": "execute_result"
    }
   ],
   "source": [
    "hash_func(10)"
   ]
  },
  {
   "cell_type": "code",
   "execution_count": 7,
   "id": "4b57fe78",
   "metadata": {},
   "outputs": [
    {
     "name": "stdout",
     "output_type": "stream",
     "text": [
      "97\n",
      "68\n",
      "116\n",
      "1\n"
     ]
    }
   ],
   "source": [
    "data1='anndy'\n",
    "data2='Dave'\n",
    "data3='trump'\n",
    "\n",
    "# ord():문자의 ASCII 코드값을 반환\n",
    "print(ord(data1[0]))  \n",
    "print(ord(data2[0]))   \n",
    "print(ord(data3[0])) \n",
    "print(hash_func(ord(data3[0]))) "
   ]
  },
  {
   "cell_type": "markdown",
   "id": "26dabe14",
   "metadata": {},
   "source": [
    "- 해쉬 테이블에 값 저장 예\n",
    "    - data:value 와 같이 data와 value를 넣으면, 해당 data에 대한 key를 찾아서, 해당 key에 대응하는 해쉬주소에 value를 저장하는 예"
   ]
  },
  {
   "cell_type": "code",
   "execution_count": 8,
   "id": "e62e0b9d",
   "metadata": {},
   "outputs": [
    {
     "name": "stdout",
     "output_type": "stream",
     "text": [
      "{2: '010-1234-5678', 3: '010-9876-5432', 1: '010-1111-2222'}\n"
     ]
    }
   ],
   "source": [
    "def storage_data(data,value):\n",
    "    key=ord(data[0])\n",
    "    hash_address=hash_func(key)\n",
    "    hash_table[hash_address]=value\n",
    "\n",
    "hash_table={}\n",
    "storage_data('anndy','010-1234-5678')\n",
    "storage_data('Dave','010-9876-5432')\n",
    "storage_data('trump','010-1111-2222')\n",
    "print(hash_table)"
   ]
  },
  {
   "cell_type": "code",
   "execution_count": 9,
   "id": "0e694a55",
   "metadata": {},
   "outputs": [
    {
     "data": {
      "text/plain": [
       "'010-1234-5678'"
      ]
     },
     "execution_count": 9,
     "metadata": {},
     "output_type": "execute_result"
    }
   ],
   "source": [
    "def get_data(data):\n",
    "    key=ord(data[0])\n",
    "    hash_address=hash_func(key)\n",
    "    return hash_table[hash_address]\n",
    "\n",
    "get_data('anndy')"
   ]
  },
  {
   "cell_type": "markdown",
   "id": "13302467",
   "metadata": {},
   "source": [
    "### Hash table의 장단점\n",
    "\n",
    "#### 장점\n",
    "- 데이터 저장/읽기 속도가 빠르다 = 검색 속도가 빠름\n",
    "- hash는 key에 대한 데이터가 있는지(중복) 확인이 쉬움    \n",
    "\n",
    "#### 단점\n",
    "- 일반적으로 저장공간이 좀 더 많이 필요함\n",
    "- 여러 key에 해당하는 주소가 동일할 경우 충돌 발생 --> 충돌 해결을 위한 별도 자료구조 필요함\n",
    "\n",
    "#### 주요 용도\n",
    "- 검색이 많이 필요한 경우\n",
    "- 저장, 삭제, 읽기가 빈번한 경우\n",
    "- 웹 캐쉬 구현시 : 중복확인이 쉽기 때문"
   ]
  },
  {
   "cell_type": "code",
   "execution_count": 14,
   "id": "54cd2512",
   "metadata": {},
   "outputs": [],
   "source": [
    "hash_table=list([0] for i in range(8))\n",
    "\n",
    "def get_key(data):\n",
    "    return hash(data)\n",
    "\n",
    "def hash_func(key):\n",
    "    return key%8\n",
    "\n",
    "def save_data(data,value):\n",
    "    hash_address=hash_func(get_key(data))\n",
    "    hash_table[hash_address]=value\n",
    "    return hash_address\n",
    "\n",
    "def read_data(data):\n",
    "    hash_address=hash_func(get_key(data))\n",
    "    return hash_table[hash_address]\n"
   ]
  },
  {
   "cell_type": "code",
   "execution_count": 15,
   "id": "b9f5d7f4",
   "metadata": {},
   "outputs": [
    {
     "data": {
      "text/plain": [
       "'010-1234-5678'"
      ]
     },
     "execution_count": 15,
     "metadata": {},
     "output_type": "execute_result"
    }
   ],
   "source": [
    "save_data('Dave','010-1234-5678')\n",
    "save_data('anndy','010-9876-5432')\n",
    "save_data('trump','010-1111-2222')\n",
    "read_data('Dave')"
   ]
  },
  {
   "cell_type": "code",
   "execution_count": null,
   "id": "ed78cda4",
   "metadata": {},
   "outputs": [],
   "source": []
  }
 ],
 "metadata": {
  "kernelspec": {
   "display_name": "Python 3",
   "language": "python",
   "name": "python3"
  },
  "language_info": {
   "codemirror_mode": {
    "name": "ipython",
    "version": 3
   },
   "file_extension": ".py",
   "mimetype": "text/x-python",
   "name": "python",
   "nbconvert_exporter": "python",
   "pygments_lexer": "ipython3",
   "version": "3.12.7"
  }
 },
 "nbformat": 4,
 "nbformat_minor": 5
}
